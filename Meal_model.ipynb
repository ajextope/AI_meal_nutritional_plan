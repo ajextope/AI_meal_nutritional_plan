{
 "cells": [
  {
   "cell_type": "code",
   "execution_count": 1,
   "metadata": {},
   "outputs": [
    {
     "name": "stderr",
     "output_type": "stream",
     "text": [
      "c:\\Users\\Tempo\\anaconda3\\envs\\meal_env\\Lib\\site-packages\\tqdm\\auto.py:21: TqdmWarning: IProgress not found. Please update jupyter and ipywidgets. See https://ipywidgets.readthedocs.io/en/stable/user_install.html\n",
      "  from .autonotebook import tqdm as notebook_tqdm\n"
     ]
    }
   ],
   "source": [
    "import pandas as pd\n",
    "import torch\n",
    "import torch.nn as nn\n",
    "import torch.optim as optim\n",
    "import torchvision.transforms as transforms\n",
    "import torchvision.models as models\n",
    "from transformers import BertTokenizer, BertModel\n",
    "from torch.utils.data import Dataset, DataLoader\n",
    "from fpdf import FPDF"
   ]
  },
  {
   "cell_type": "code",
   "execution_count": 2,
   "metadata": {},
   "outputs": [
    {
     "data": {
      "text/html": [
       "<div>\n",
       "<style scoped>\n",
       "    .dataframe tbody tr th:only-of-type {\n",
       "        vertical-align: middle;\n",
       "    }\n",
       "\n",
       "    .dataframe tbody tr th {\n",
       "        vertical-align: top;\n",
       "    }\n",
       "\n",
       "    .dataframe thead th {\n",
       "        text-align: right;\n",
       "    }\n",
       "</style>\n",
       "<table border=\"1\" class=\"dataframe\">\n",
       "  <thead>\n",
       "    <tr style=\"text-align: right;\">\n",
       "      <th></th>\n",
       "      <th>Date</th>\n",
       "      <th>User_ID</th>\n",
       "      <th>Food_Item</th>\n",
       "      <th>Category</th>\n",
       "      <th>Calories (kcal)</th>\n",
       "      <th>Protein (g)</th>\n",
       "      <th>Carbohydrates (g)</th>\n",
       "      <th>Fat (g)</th>\n",
       "      <th>Fiber (g)</th>\n",
       "      <th>Sugars (g)</th>\n",
       "      <th>Sodium (mg)</th>\n",
       "      <th>Cholesterol (mg)</th>\n",
       "      <th>Meal_Type</th>\n",
       "      <th>Water_Intake (ml)</th>\n",
       "    </tr>\n",
       "  </thead>\n",
       "  <tbody>\n",
       "    <tr>\n",
       "      <th>0</th>\n",
       "      <td>2024-09-11</td>\n",
       "      <td>496</td>\n",
       "      <td>Eggs</td>\n",
       "      <td>Meat</td>\n",
       "      <td>173</td>\n",
       "      <td>42.4</td>\n",
       "      <td>83.7</td>\n",
       "      <td>1.5</td>\n",
       "      <td>1.5</td>\n",
       "      <td>12.7</td>\n",
       "      <td>752</td>\n",
       "      <td>125</td>\n",
       "      <td>Lunch</td>\n",
       "      <td>478</td>\n",
       "    </tr>\n",
       "    <tr>\n",
       "      <th>1</th>\n",
       "      <td>2024-12-17</td>\n",
       "      <td>201</td>\n",
       "      <td>Apple</td>\n",
       "      <td>Fruits</td>\n",
       "      <td>66</td>\n",
       "      <td>39.2</td>\n",
       "      <td>13.8</td>\n",
       "      <td>3.2</td>\n",
       "      <td>2.6</td>\n",
       "      <td>12.2</td>\n",
       "      <td>680</td>\n",
       "      <td>97</td>\n",
       "      <td>Lunch</td>\n",
       "      <td>466</td>\n",
       "    </tr>\n",
       "    <tr>\n",
       "      <th>2</th>\n",
       "      <td>2024-06-09</td>\n",
       "      <td>776</td>\n",
       "      <td>Chicken Breast</td>\n",
       "      <td>Meat</td>\n",
       "      <td>226</td>\n",
       "      <td>27.1</td>\n",
       "      <td>79.1</td>\n",
       "      <td>25.8</td>\n",
       "      <td>3.2</td>\n",
       "      <td>44.7</td>\n",
       "      <td>295</td>\n",
       "      <td>157</td>\n",
       "      <td>Breakfast</td>\n",
       "      <td>635</td>\n",
       "    </tr>\n",
       "    <tr>\n",
       "      <th>3</th>\n",
       "      <td>2024-08-27</td>\n",
       "      <td>112</td>\n",
       "      <td>Banana</td>\n",
       "      <td>Fruits</td>\n",
       "      <td>116</td>\n",
       "      <td>43.4</td>\n",
       "      <td>47.1</td>\n",
       "      <td>16.1</td>\n",
       "      <td>6.5</td>\n",
       "      <td>44.1</td>\n",
       "      <td>307</td>\n",
       "      <td>13</td>\n",
       "      <td>Snack</td>\n",
       "      <td>379</td>\n",
       "    </tr>\n",
       "    <tr>\n",
       "      <th>4</th>\n",
       "      <td>2024-07-28</td>\n",
       "      <td>622</td>\n",
       "      <td>Banana</td>\n",
       "      <td>Fruits</td>\n",
       "      <td>500</td>\n",
       "      <td>33.9</td>\n",
       "      <td>75.8</td>\n",
       "      <td>47.0</td>\n",
       "      <td>7.8</td>\n",
       "      <td>19.4</td>\n",
       "      <td>358</td>\n",
       "      <td>148</td>\n",
       "      <td>Lunch</td>\n",
       "      <td>471</td>\n",
       "    </tr>\n",
       "    <tr>\n",
       "      <th>...</th>\n",
       "      <td>...</td>\n",
       "      <td>...</td>\n",
       "      <td>...</td>\n",
       "      <td>...</td>\n",
       "      <td>...</td>\n",
       "      <td>...</td>\n",
       "      <td>...</td>\n",
       "      <td>...</td>\n",
       "      <td>...</td>\n",
       "      <td>...</td>\n",
       "      <td>...</td>\n",
       "      <td>...</td>\n",
       "      <td>...</td>\n",
       "      <td>...</td>\n",
       "    </tr>\n",
       "    <tr>\n",
       "      <th>9995</th>\n",
       "      <td>2024-09-18</td>\n",
       "      <td>455</td>\n",
       "      <td>Salmon</td>\n",
       "      <td>Meat</td>\n",
       "      <td>346</td>\n",
       "      <td>29.8</td>\n",
       "      <td>55.6</td>\n",
       "      <td>4.6</td>\n",
       "      <td>1.7</td>\n",
       "      <td>0.5</td>\n",
       "      <td>976</td>\n",
       "      <td>87</td>\n",
       "      <td>Breakfast</td>\n",
       "      <td>793</td>\n",
       "    </tr>\n",
       "    <tr>\n",
       "      <th>9996</th>\n",
       "      <td>2024-12-13</td>\n",
       "      <td>913</td>\n",
       "      <td>Grapes</td>\n",
       "      <td>Fruits</td>\n",
       "      <td>174</td>\n",
       "      <td>22.9</td>\n",
       "      <td>54.9</td>\n",
       "      <td>32.1</td>\n",
       "      <td>2.5</td>\n",
       "      <td>5.9</td>\n",
       "      <td>255</td>\n",
       "      <td>56</td>\n",
       "      <td>Lunch</td>\n",
       "      <td>665</td>\n",
       "    </tr>\n",
       "    <tr>\n",
       "      <th>9997</th>\n",
       "      <td>2024-01-31</td>\n",
       "      <td>943</td>\n",
       "      <td>Strawberry</td>\n",
       "      <td>Fruits</td>\n",
       "      <td>63</td>\n",
       "      <td>36.5</td>\n",
       "      <td>23.8</td>\n",
       "      <td>21.6</td>\n",
       "      <td>0.8</td>\n",
       "      <td>48.9</td>\n",
       "      <td>757</td>\n",
       "      <td>63</td>\n",
       "      <td>Snack</td>\n",
       "      <td>876</td>\n",
       "    </tr>\n",
       "    <tr>\n",
       "      <th>9998</th>\n",
       "      <td>2024-09-28</td>\n",
       "      <td>571</td>\n",
       "      <td>Spinach</td>\n",
       "      <td>Vegetables</td>\n",
       "      <td>564</td>\n",
       "      <td>26.2</td>\n",
       "      <td>58.9</td>\n",
       "      <td>11.9</td>\n",
       "      <td>3.3</td>\n",
       "      <td>43.0</td>\n",
       "      <td>482</td>\n",
       "      <td>33</td>\n",
       "      <td>Breakfast</td>\n",
       "      <td>319</td>\n",
       "    </tr>\n",
       "    <tr>\n",
       "      <th>9999</th>\n",
       "      <td>2024-09-07</td>\n",
       "      <td>33</td>\n",
       "      <td>Banana</td>\n",
       "      <td>Fruits</td>\n",
       "      <td>442</td>\n",
       "      <td>20.9</td>\n",
       "      <td>27.3</td>\n",
       "      <td>29.6</td>\n",
       "      <td>9.9</td>\n",
       "      <td>30.9</td>\n",
       "      <td>919</td>\n",
       "      <td>22</td>\n",
       "      <td>Dinner</td>\n",
       "      <td>914</td>\n",
       "    </tr>\n",
       "  </tbody>\n",
       "</table>\n",
       "<p>10000 rows × 14 columns</p>\n",
       "</div>"
      ],
      "text/plain": [
       "            Date  User_ID       Food_Item    Category  Calories (kcal)  \\\n",
       "0     2024-09-11      496            Eggs        Meat              173   \n",
       "1     2024-12-17      201           Apple      Fruits               66   \n",
       "2     2024-06-09      776  Chicken Breast        Meat              226   \n",
       "3     2024-08-27      112          Banana      Fruits              116   \n",
       "4     2024-07-28      622          Banana      Fruits              500   \n",
       "...          ...      ...             ...         ...              ...   \n",
       "9995  2024-09-18      455          Salmon        Meat              346   \n",
       "9996  2024-12-13      913          Grapes      Fruits              174   \n",
       "9997  2024-01-31      943      Strawberry      Fruits               63   \n",
       "9998  2024-09-28      571         Spinach  Vegetables              564   \n",
       "9999  2024-09-07       33          Banana      Fruits              442   \n",
       "\n",
       "      Protein (g)  Carbohydrates (g)  Fat (g)  Fiber (g)  Sugars (g)  \\\n",
       "0            42.4               83.7      1.5        1.5        12.7   \n",
       "1            39.2               13.8      3.2        2.6        12.2   \n",
       "2            27.1               79.1     25.8        3.2        44.7   \n",
       "3            43.4               47.1     16.1        6.5        44.1   \n",
       "4            33.9               75.8     47.0        7.8        19.4   \n",
       "...           ...                ...      ...        ...         ...   \n",
       "9995         29.8               55.6      4.6        1.7         0.5   \n",
       "9996         22.9               54.9     32.1        2.5         5.9   \n",
       "9997         36.5               23.8     21.6        0.8        48.9   \n",
       "9998         26.2               58.9     11.9        3.3        43.0   \n",
       "9999         20.9               27.3     29.6        9.9        30.9   \n",
       "\n",
       "      Sodium (mg)  Cholesterol (mg)  Meal_Type  Water_Intake (ml)  \n",
       "0             752               125      Lunch                478  \n",
       "1             680                97      Lunch                466  \n",
       "2             295               157  Breakfast                635  \n",
       "3             307                13      Snack                379  \n",
       "4             358               148      Lunch                471  \n",
       "...           ...               ...        ...                ...  \n",
       "9995          976                87  Breakfast                793  \n",
       "9996          255                56      Lunch                665  \n",
       "9997          757                63      Snack                876  \n",
       "9998          482                33  Breakfast                319  \n",
       "9999          919                22     Dinner                914  \n",
       "\n",
       "[10000 rows x 14 columns]"
      ]
     },
     "execution_count": 2,
     "metadata": {},
     "output_type": "execute_result"
    }
   ],
   "source": [
    "# Load Dataset\n",
    "dataset_path = \"data/daily_food_nutrition_dataset.csv\"\n",
    "df = pd.read_csv(dataset_path)\n",
    "df"
   ]
  },
  {
   "cell_type": "code",
   "execution_count": 3,
   "metadata": {},
   "outputs": [],
   "source": [
    "# ---------------- 1. CNN Model for Food Recognition ----------------\n",
    "class FoodCNN(nn.Module):\n",
    "    def __init__(self):\n",
    "        super(FoodCNN, self).__init__()\n",
    "        self.model = models.resnet18(pretrained=True)\n",
    "        self.model.fc = nn.Linear(self.model.fc.in_features, len(df['Food_Item'].unique()))\n",
    "    \n",
    "    def forward(self, x):\n",
    "        return self.model(x)\n",
    "\n"
   ]
  },
  {
   "cell_type": "code",
   "execution_count": 4,
   "metadata": {},
   "outputs": [
    {
     "name": "stderr",
     "output_type": "stream",
     "text": [
      "c:\\Users\\Tempo\\anaconda3\\envs\\meal_env\\Lib\\site-packages\\torchvision\\models\\_utils.py:208: UserWarning: The parameter 'pretrained' is deprecated since 0.13 and may be removed in the future, please use 'weights' instead.\n",
      "  warnings.warn(\n",
      "c:\\Users\\Tempo\\anaconda3\\envs\\meal_env\\Lib\\site-packages\\torchvision\\models\\_utils.py:223: UserWarning: Arguments other than a weight enum or `None` for 'weights' are deprecated since 0.13 and may be removed in the future. The current behavior is equivalent to passing `weights=ResNet18_Weights.IMAGENET1K_V1`. You can also use `weights=ResNet18_Weights.DEFAULT` to get the most up-to-date weights.\n",
      "  warnings.warn(msg)\n",
      "Downloading: \"https://download.pytorch.org/models/resnet18-f37072fd.pth\" to C:\\Users\\Tempo/.cache\\torch\\hub\\checkpoints\\resnet18-f37072fd.pth\n",
      "100%|██████████| 44.7M/44.7M [05:34<00:00, 140kB/s] \n"
     ]
    }
   ],
   "source": [
    "# Instantiate CNN Model\n",
    "cnn_model = FoodCNN()"
   ]
  },
  {
   "cell_type": "code",
   "execution_count": 46,
   "metadata": {},
   "outputs": [
    {
     "name": "stdout",
     "output_type": "stream",
     "text": [
      "CNN Model Saved!\n"
     ]
    }
   ],
   "source": [
    "# Save the trained CNN model\n",
    "\n",
    "torch.save(cnn_model.state_dict(), \"models/food_cnn_model.pth\")\n",
    "print(\"CNN Model Saved!\")"
   ]
  },
  {
   "cell_type": "code",
   "execution_count": 5,
   "metadata": {},
   "outputs": [],
   "source": [
    "# ---------------- 2. BERT for Recipe Understanding ----------------\n",
    "tokenizer = BertTokenizer.from_pretrained(\"bert-base-uncased\")\n",
    "bert_model = BertModel.from_pretrained(\"bert-base-uncased\")\n",
    "\n",
    "class RecipeDataset(Dataset):\n",
    "    def __init__(self, texts):\n",
    "        self.texts = texts\n",
    "        self.encodings = tokenizer(self.texts, padding=True, truncation=True, return_tensors='pt')\n",
    "    \n",
    "    def __len__(self):\n",
    "        return len(self.texts)\n",
    "    \n",
    "    def __getitem__(self, idx):\n",
    "        return {key: val[idx] for key, val in self.encodings.items()}"
   ]
  },
  {
   "cell_type": "code",
   "execution_count": 6,
   "metadata": {},
   "outputs": [],
   "source": [
    "# Example Recipes Dataset\n",
    "recipes = [\"Scrambled eggs with toast\", \"Chicken and rice\", \"Salad with dressing\"]\n",
    "recipe_dataset = RecipeDataset(recipes)\n",
    "recipe_loader = DataLoader(recipe_dataset, batch_size=2)"
   ]
  },
  {
   "cell_type": "code",
   "execution_count": 7,
   "metadata": {},
   "outputs": [],
   "source": [
    "# ---------------- 3. LSTM for Meal History Tracking ----------------\n",
    "class LSTMMealTracker(nn.Module):\n",
    "    def __init__(self, input_size, hidden_size, output_size):\n",
    "        super(LSTMMealTracker, self).__init__()\n",
    "        self.lstm = nn.LSTM(input_size, hidden_size, batch_first=True)\n",
    "        self.fc = nn.Linear(hidden_size, output_size)\n",
    "    \n",
    "    def forward(self, x):\n",
    "        out, _ = self.lstm(x)\n",
    "        return self.fc(out[:, -1, :])\n",
    "\n",
    "lstm_model = LSTMMealTracker(input_size=5, hidden_size=10, output_size=3)\n"
   ]
  },
  {
   "cell_type": "code",
   "execution_count": 47,
   "metadata": {},
   "outputs": [
    {
     "name": "stdout",
     "output_type": "stream",
     "text": [
      "LSTM Model Saved!\n"
     ]
    }
   ],
   "source": [
    "# Save the trained LSTM model\n",
    "torch.save(lstm_model.state_dict(), \"models/meal_tracker_lstm.pth\")\n",
    "print(\"LSTM Model Saved!\")"
   ]
  },
  {
   "cell_type": "code",
   "execution_count": 10,
   "metadata": {},
   "outputs": [],
   "source": [
    "# ---------------- 4. Budget-Based Meal Planning ----------------\n",
    "def filter_meals_by_budget(user_id, max_budget):\n",
    "    user_meals = df[df['User_ID'] == user_id]\n",
    "    affordable_meals = user_meals[user_meals['Cost'] <= max_budget]\n",
    "    return affordable_meals.head(7)  # Weekly Plan"
   ]
  },
  {
   "cell_type": "code",
   "execution_count": 36,
   "metadata": {},
   "outputs": [],
   "source": [
    "# ---------------- 5. Ingredient Substitution for Allergies ----------------\n",
    "def substitute_allergenic_ingredients(user_id, allergy):\n",
    "    if 'Food_Item' in df.columns:\n",
    "        user_meals = df[df['User_ID'] == user_id]\n",
    "        for idx, row in user_meals.iterrows():\n",
    "            if allergy.lower() in row['Food_Item'].lower():\n",
    "                user_meals.at[idx, 'Food_Item'] = \"Alternative Food Option\"\n",
    "        return user_meals.head(7)\n",
    "    else:\n",
    "        print(\"Warning: 'Food_Item' column missing in dataset.\")\n",
    "        return df[df['User_ID'] == user_id].head(7)\n",
    "\n"
   ]
  },
  {
   "cell_type": "code",
   "execution_count": 37,
   "metadata": {},
   "outputs": [],
   "source": [
    "# ---------------- 6. Seasonal Meal Suggestions ----------------\n",
    "def get_seasonal_meals(season):\n",
    "    seasonal_meals = df[df['Season'] == season]\n",
    "    return seasonal_meals.sample(n=7) if not seasonal_meals.empty else df.sample(n=7)"
   ]
  },
  {
   "cell_type": "code",
   "execution_count": 29,
   "metadata": {},
   "outputs": [],
   "source": [
    "# ---------------- 7. Real-Time Grocery Pricing ----------------\n",
    "# def estimate_meal_cost(meal):\n",
    "#     # Mock pricing mechanism (real implementation would use API calls)\n",
    "#     avg_price = df[df['Food_Item'] == meal]['Cost'].mean()\n",
    "#     return avg_price if not pd.isna(avg_price) else 5.0  # Default price\n"
   ]
  },
  {
   "cell_type": "code",
   "execution_count": 39,
   "metadata": {},
   "outputs": [],
   "source": [
    "# ---------------- 8. Smart Grocery List Generation ----------------\n",
    "def generate_grocery_list(meal_plan):\n",
    "    grocery_list = {}\n",
    "    if 'Food_Item' in meal_plan.columns:\n",
    "        for _, row in meal_plan.iterrows():\n",
    "            food_item = row['Food_Item']\n",
    "            grocery_list[food_item] = grocery_list.get(food_item, 0) + 1\n",
    "    else:\n",
    "        print(\"Warning: 'Food_Item' column missing in dataset.\")\n",
    "    return grocery_list\n"
   ]
  },
  {
   "cell_type": "code",
   "execution_count": 40,
   "metadata": {},
   "outputs": [],
   "source": [
    "# ---------------- 9. Meal Prep Tips ----------------\n",
    "def get_meal_prep_tips(meal):\n",
    "    return f\"Tips for preparing {meal}: Ensure proper seasoning and balanced cooking time.\"\n"
   ]
  },
  {
   "cell_type": "code",
   "execution_count": 43,
   "metadata": {},
   "outputs": [],
   "source": [
    "# ---------------- 10. PDF Meal Plan Generation ----------------\n",
    "def generate_meal_plan(user_id, allergy=None, season=None):\n",
    "    if allergy:\n",
    "        user_meals = substitute_allergenic_ingredients(user_id, allergy)\n",
    "    elif season:\n",
    "        user_meals = get_seasonal_meals(season)\n",
    "    else:\n",
    "        user_meals = df[df['User_ID'] == user_id].head(7)\n",
    "    \n",
    "    pdf = FPDF()\n",
    "    pdf.set_auto_page_break(auto=True, margin=15)\n",
    "    pdf.add_page()\n",
    "    pdf.set_font(\"Arial\", size=12)\n",
    "    pdf.cell(200, 10, txt=f\"Meal Plan for User {user_id}\", ln=True, align='C')\n",
    "    \n",
    "    grocery_list = generate_grocery_list(user_meals)\n",
    "    \n",
    "    for _, row in user_meals.iterrows():\n",
    "        meal_prep_tips = get_meal_prep_tips(row['Food_Item'])\n",
    "        pdf.cell(200, 10, txt=f\"{row['Date']}: {row['Meal_Type']} - {row['Food_Item']} ({row['Calories (kcal)']} kcal\", ln=True)\n",
    "        pdf.multi_cell(200, 10, txt=meal_prep_tips)\n",
    "    \n",
    "    pdf.add_page()\n",
    "    pdf.cell(200, 10, txt=\"Grocery List\", ln=True, align='C')\n",
    "    for item, qty in grocery_list.items():\n",
    "        pdf.cell(200, 10, txt=f\"{item}: {qty}\", ln=True)\n",
    "    \n",
    "    pdf.output(\"meal_plan.pdf\")\n",
    "    print(\"Meal Plan Generated with Grocery List and Meal Prep Tips!\")\n",
    "\n",
    "\n"
   ]
  },
  {
   "cell_type": "code",
   "execution_count": 44,
   "metadata": {},
   "outputs": [
    {
     "name": "stdout",
     "output_type": "stream",
     "text": [
      "Meal Plan Generated with Grocery List and Meal Prep Tips!\n"
     ]
    }
   ],
   "source": [
    "# Example: Generate a Meal Plan\n",
    "generate_meal_plan(user_id=201)"
   ]
  },
  {
   "cell_type": "markdown",
   "metadata": {},
   "source": [
    "### Loading the CNN Model"
   ]
  },
  {
   "cell_type": "code",
   "execution_count": null,
   "metadata": {},
   "outputs": [],
   "source": [
    "#Using model\n",
    "\n",
    "# Reinitialize the model\n",
    "cnn_model = FoodCNN()\n",
    "cnn_model.load_state_dict(torch.load(\"food_cnn_model.pth\"))\n",
    "cnn_model.eval()  # Set the model to evaluation mode\n",
    "print(\"CNN Model Loaded!\")"
   ]
  },
  {
   "cell_type": "markdown",
   "metadata": {},
   "source": [
    "### Loading the LSTM Model"
   ]
  },
  {
   "cell_type": "code",
   "execution_count": null,
   "metadata": {},
   "outputs": [],
   "source": [
    "lstm_model = LSTMMealTracker(input_size=5, hidden_size=10, output_size=3)\n",
    "lstm_model.load_state_dict(torch.load(\"meal_tracker_lstm.pth\"))\n",
    "lstm_model.eval()\n",
    "print(\"LSTM Model Loaded!\")\n"
   ]
  },
  {
   "cell_type": "code",
   "execution_count": null,
   "metadata": {},
   "outputs": [],
   "source": []
  }
 ],
 "metadata": {
  "kernelspec": {
   "display_name": "meal_env",
   "language": "python",
   "name": "python3"
  },
  "language_info": {
   "codemirror_mode": {
    "name": "ipython",
    "version": 3
   },
   "file_extension": ".py",
   "mimetype": "text/x-python",
   "name": "python",
   "nbconvert_exporter": "python",
   "pygments_lexer": "ipython3",
   "version": "3.12.0"
  }
 },
 "nbformat": 4,
 "nbformat_minor": 2
}
